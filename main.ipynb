{
 "cells": [
  {
   "cell_type": "markdown",
   "id": "f86b4152",
   "metadata": {},
   "source": [
    "Welcome!\n",
    "\n",
    "If you haven't read the README.md file at my git, start there. Check the pdf \"Matching VBF-quarks with Jets\", also, to get some background and purpose for this code. You should know what is bGenPart (best GenPart), bGenJet and bJet, etc. Check also histogram pdfs in different directories.\n",
    "\n",
    "This \"main.ipynb\" python file is the main file and the rest are runned from here by %run or %load (and run) commands.\n",
    "\n",
    "The code structure from the beginning to end:\n",
    "\n",
    "    1) creating the RDataframe from data files,\n",
    "    2) defining variables, functions and filtering the data to interesting events only,\n",
    "    3) optional\n",
    "\n",
    "The third step (\"optional\") can be anything but specially (there are different functions and python files to run depending on the choice):\n",
    "\n",
    "    1) print and study the matchings (bGenPart-->bGenJet-->bJet) success rates and results (the \"printStats\" -files and functions),\n",
    "    2) study histograms of different variables (there are already many histograms in the directories),\n",
    "    3) print and study the events one by one and print interesting properties about it (the \"printEvents\" -files and functions),\n",
    "    4) improve finding of the VBF jets with detector data towards \"strong Jets\" using pandas dataframe, and sklearn machine learning algorithms\n",
    "    \n",
    "    \n",
    "I recommend studying the code below well enough before doing \"Restart & Run All\". You might want to study only one of the four things listed above and comment out the other %run and %load commands.\n",
    "\n",
    "Notice that the dataset events can be filtered with (at least) two different ways: fatJetFilter (loose filter) and viljaFilter (SalomaaMod recommended).\n",
    "\n",
    "If help is needed, I can be connected.\n",
    "\n",
    "BR. Santeri Salomaa"
   ]
  },
  {
   "cell_type": "code",
   "execution_count": 1,
   "id": "88be835a",
   "metadata": {},
   "outputs": [],
   "source": [
    "# Random tip:\n",
    "# Visualizing the data columns helps in many situations. You can do this easily, for example using pandas dataframe\n",
    "# (df0 = RDataframe, npdf = numpy dataframe, pddf = pandas dataframe)\n",
    "\n",
    "# Example:\n",
    "# npdf = df0.AsNumpy(['column_1', 'column_2'])\n",
    "# pddf = pd.DataFrame(npdf)\n",
    "# pddf.iloc[:5]"
   ]
  },
  {
   "cell_type": "markdown",
   "id": "minor-doctrine",
   "metadata": {},
   "source": [
    "# -------------------------------------"
   ]
  },
  {
   "cell_type": "markdown",
   "id": "italian-society",
   "metadata": {},
   "source": [
    "###### All NanoAOD v7 variables are listed here: https://cms-nanoaod-integration.web.cern.ch/integration/master/mc94X_doc.html#LHE\n",
    "###### List of all custom NanoAODv7 files is at: https://cmsweb.cern.ch/das/request?view=list&limit=150&instance=prod%2Fphys03&input=%2F*%2F*-NanoTuples-30Apr2020_*%2FUSER"
   ]
  },
  {
   "cell_type": "markdown",
   "id": "2e9f73bd",
   "metadata": {},
   "source": [
    "# -------------------------------------"
   ]
  },
  {
   "cell_type": "markdown",
   "id": "offshore-subdivision",
   "metadata": {},
   "source": [
    "## All imports:"
   ]
  },
  {
   "cell_type": "code",
   "execution_count": 33,
   "id": "balanced-garden",
   "metadata": {},
   "outputs": [],
   "source": [
    "# Time can be imported for checking the runtime\n",
    "\n",
    "import time\n",
    "t_init = time.time()"
   ]
  },
  {
   "cell_type": "code",
   "execution_count": 3,
   "id": "spatial-centre",
   "metadata": {
    "scrolled": false
   },
   "outputs": [
    {
     "name": "stdout",
     "output_type": "stream",
     "text": [
      "Welcome to JupyROOT 6.24/00\n"
     ]
    }
   ],
   "source": [
    "import ROOT"
   ]
  },
  {
   "cell_type": "code",
   "execution_count": 4,
   "id": "broken-fundamental",
   "metadata": {},
   "outputs": [],
   "source": [
    "import numpy as np\n",
    "from matplotlib import pyplot as plt\n",
    "import pandas as pd\n",
    "\n",
    "# For histograms\n",
    "from ROOT import TLine\n",
    "\n",
    "# Imports for machine learning\n",
    "import sklearn as sk\n",
    "import matplotlib\n",
    "from sklearn.model_selection import train_test_split\n",
    "from scipy.stats import zscore\n",
    "from sklearn.decomposition import PCA\n",
    "from sklearn.neighbors import KNeighborsClassifier\n",
    "from sklearn.linear_model import LogisticRegression\n",
    "from sklearn.neural_network import MLPClassifier\n",
    "from sklearn.metrics import classification_report, confusion_matrix\n",
    "from sklearn.metrics import accuracy_score\n",
    "from sklearn.metrics import roc_curve, auc\n",
    "from sklearn.metrics import roc_auc_score"
   ]
  },
  {
   "cell_type": "code",
   "execution_count": 5,
   "id": "conventional-english",
   "metadata": {},
   "outputs": [],
   "source": [
    "# Batch mode (do not open windows while running)\n",
    "ROOT.gROOT.SetBatch(True)\n",
    "\n",
    "# Enable multi-threading with 4 threads \n",
    "#ROOT.ROOT.EnableImplicitMT(4)"
   ]
  },
  {
   "cell_type": "markdown",
   "id": "eight-moses",
   "metadata": {},
   "source": [
    "# Choose the dataset and filtering of the events."
   ]
  },
  {
   "cell_type": "code",
   "execution_count": 6,
   "id": "exempt-begin",
   "metadata": {},
   "outputs": [],
   "source": [
    "# Choose the dataset and filtering of the events. You can delete this and make own (better/simpler) method of choosing the data if you want.\n",
    "# Look up the next cells to know wat these \"flags\" actually do.\n",
    "# Here the data is \"chosen\" and after this the code uses if-functions to handle and make the dataframe.\n",
    "# HH = di-Higgs data and WW = di-W-boson data (tt and ll is the polarisation of the bosons)\n",
    "#********************************\n",
    "# Datafile (choose one and specify if needed, f.ex. WW = True and WW_tt = True)\n",
    "#--------------------------------\n",
    "HH = True\n",
    "#--------------------------------\n",
    "WW = False\n",
    "\n",
    "WW_ll = False\n",
    "WW_tt = False\n",
    "#********************************\n",
    "# Filters (choose one):\n",
    "#--------------------------------\n",
    "fatJetFiltered = False\n",
    "#--------------------------------\n",
    "viljaFiltered=True\n",
    "\n",
    "# These are modifications of the original viljaFilter.\n",
    "# LaurilaMod has looser filters\n",
    "# SalomaaMod has more variables but same filters (I recommend using this)\n",
    "\n",
    "viljaFiltered_original = False\n",
    "viljaFiltered_LaurilaMod = False\n",
    "viljaFiltered_SalomaaMod = True\n",
    "#********************************\n",
    "# How much data (you can ignore or delete these if you want):\n",
    "#--------------------------------\n",
    "HH_one = False\n",
    "viljaFilteredFromAll = False\n",
    "#--------------------------------\n",
    "bigData = False\n",
    "allData = False"
   ]
  },
  {
   "cell_type": "markdown",
   "id": "neural-interim",
   "metadata": {},
   "source": [
    "# Create dataframe from NanoAOD files:"
   ]
  },
  {
   "cell_type": "code",
   "execution_count": 7,
   "id": "separate-saturday",
   "metadata": {},
   "outputs": [],
   "source": [
    "# Some information of the datafiles:\n",
    "#********************************\n",
    "# HH file path:\n",
    "# /eos/cms/store/cmst3/group/vhcc/nanoTuples/v2_30Apr2020/2018/mc/VBF_HH_CV_1_C2V_0_C3_1_dipoleRecoilOff-TuneCP5_PSweights_13TeV-madgraph-pythia8/NanoTuples-30Apr2020_RunIIAutumn18MiniAOD-102X_v15-v2/200601_133715/0000/\n",
    "\n",
    "# FILE CODE: VBF HH CV 1 C2V 0 C3 1 dipoleRecoilOff-TuneCP5 PSweights 13TeV-madgraph-pythia8 0.009169\n",
    "#--------------------------------\n",
    "# WW_ll file path:\n",
    "# /eos/cms/store/cmst3/group/vhcc/nanoTuples/v2_30Apr2020/2016/mc/WWjj_SS_ll_hadronicMG272_WPt200Inf/NanoTuples-30Apr2020_kirschen-FullSim_94X-2016-MINIAODSIM-bd3e7bcff6c9bcad356ea4ed7e4f08b4/210708_131326/0000/\n",
    "#--------------------------------\n",
    "# WW_tt file path:\n",
    "# /eos/cms/store/cmst3/group/vhcc/nanoTuples/v2_30Apr2020/2016/mc/WWjj_SS_tt_hadronicMG272_WPt200Inf/NanoTuples-30Apr2020_kirschen-FullSim_94X-2016-MINIAODSIM-bd3e7bcff6c9bcad356ea4ed7e4f08b4/210708_131251/0000/\n",
    "#********************************\n",
    "# If \"the file is not found\" use this in front of the path:\n",
    "# root://xrootd-cms.infn.it/\n",
    "#********************************\n",
    "\n",
    "# Creating the RDataframe using chaining of the files\n",
    "if HH:\n",
    "    \n",
    "    chain = ROOT.TChain('Events')\n",
    "\n",
    "    path = '/eos/cms/store/cmst3/group/vhcc/nanoTuples/v2_30Apr2020/2018/mc/'\n",
    "    path += 'VBF_HH_CV_1_C2V_0_C3_1_dipoleRecoilOff-TuneCP5_PSweights_13TeV-madgraph-pythia8/'\n",
    "    path += 'NanoTuples-30Apr2020_RunIIAutumn18MiniAOD-102X_v15-v2/200601_133715/0000/'\n",
    "    \n",
    "    # These determine how much data you want. You can tweak these easily here if you want.\n",
    "    if HH_one:\n",
    "        r = range(1,2,1)\n",
    "    elif viljaFilteredFromAll:\n",
    "        r = range(1, 120, 1)\n",
    "    elif viljaFiltered:\n",
    "        r = range(1, 13, 1)\n",
    "    elif fatJetFiltered:\n",
    "        r = range(1, 17, 1)\n",
    "    else:\n",
    "        r = range(1,2,1)\n",
    "    for i in r:\n",
    "        path_i = path + 'nano_' + str(i) + '.root'\n",
    "        chain.AddFile(path_i)\n",
    "    \n",
    "elif WW:\n",
    "    \n",
    "    chain = ROOT.TChain('Events')\n",
    "    \n",
    "    path = '/eos/cms/store/cmst3/group/vhcc/nanoTuples/v2_30Apr2020/2016/mc/'\n",
    "    \n",
    "    # Here also you can choose the amount of the data.\n",
    "    if WW_ll:\n",
    "        path += 'WWjj_SS_ll_hadronicMG272_WPt200Inf/'\n",
    "        path += 'NanoTuples-30Apr2020_kirschen-FullSim_94X-2016-MINIAODSIM-bd3e7bcff6c9bcad356ea4ed7e4f08b4/210708_131326/0000/'\n",
    "        for i in range(1, 501, 1):\n",
    "            path_i = path + 'nano_' + str(i) + '.root'\n",
    "            chain.AddFile(path_i)\n",
    "    elif WW_tt:\n",
    "        path += 'WWjj_SS_tt_hadronicMG272_WPt200Inf/'\n",
    "        path += 'NanoTuples-30Apr2020_kirschen-FullSim_94X-2016-MINIAODSIM-bd3e7bcff6c9bcad356ea4ed7e4f08b4/210708_131251/0000/'\n",
    "        for i in range(1, 206, 1):\n",
    "            path_i = path + 'nano_' + str(i) + '.root'\n",
    "            chain.AddFile(path_i)\n",
    "            if i == 1:\n",
    "                print(path_i)\n",
    "\n",
    "df = ROOT.RDataFrame(chain)"
   ]
  },
  {
   "cell_type": "markdown",
   "id": "naked-store",
   "metadata": {},
   "source": [
    "## FindClosest (c++ code):"
   ]
  },
  {
   "cell_type": "code",
   "execution_count": 8,
   "id": "polish-diversity",
   "metadata": {},
   "outputs": [],
   "source": [
    "# Run always\n",
    "# Define c++ functions that find the closest target using eta and phi coordinates\n",
    "\n",
    "%run findClosestFunctions.py"
   ]
  },
  {
   "cell_type": "markdown",
   "id": "smooth-newport",
   "metadata": {},
   "source": [
    "## bGenPart (c++ code):"
   ]
  },
  {
   "cell_type": "code",
   "execution_count": 9,
   "id": "theoretical-coach",
   "metadata": {},
   "outputs": [],
   "source": [
    "# Run always\n",
    "# Define c++ functions related to finding last GenParts and best GenParts (bGenPart)\n",
    "\n",
    "%run bGenPartFunctions.py"
   ]
  },
  {
   "cell_type": "markdown",
   "id": "0c12148f",
   "metadata": {},
   "source": [
    "# -------------------------------------"
   ]
  },
  {
   "cell_type": "markdown",
   "id": "latin-clone",
   "metadata": {},
   "source": [
    "# Time to filter the data df --> df0 (1/2):"
   ]
  },
  {
   "cell_type": "code",
   "execution_count": 10,
   "id": "deluxe-newark",
   "metadata": {},
   "outputs": [
    {
     "name": "stderr",
     "output_type": "stream",
     "text": [
      "Warning in <TClass::Init>: no dictionary for class edm::Hash<1> is available\n",
      "Warning in <TClass::Init>: no dictionary for class edm::ProcessHistory is available\n",
      "Warning in <TClass::Init>: no dictionary for class edm::ProcessConfiguration is available\n",
      "Warning in <TClass::Init>: no dictionary for class edm::ParameterSetBlob is available\n",
      "Warning in <TClass::Init>: no dictionary for class pair<edm::Hash<1>,edm::ParameterSetBlob> is available\n",
      "Warning in <TClass::Init>: no dictionary for class __pair_base<edm::Hash<1>,edm::ParameterSetBlob> is available\n"
     ]
    }
   ],
   "source": [
    "#*************************************\n",
    "# fatJetFiltered:\n",
    "\n",
    "# Filter dataframe to contain >= two (>400 pt fat jets) with one over 500 pt\n",
    "# Select only events with at least two AK8 jets\n",
    "#-------------------------------------\n",
    "# viljaFiltered:\n",
    "\n",
    "# First use the viljaFilter\n",
    "# After that filters:\n",
    "# 1)    Events with >= 2 nGenJets\n",
    "# 2)    Events with strong matched VBF jets (only \"strong events\")\n",
    "# 3)    Events with different bJets (a.k.a. separate)\n",
    "#*************************************\n",
    "\n",
    "if fatJetFiltered:\n",
    "    df_cut_nak8 = df.Filter('nFatJet >= 2', 'Events with >=2 AK8 jets')\n",
    "    df_cut_ak8pt = df_cut_nak8.Filter('Sum(FatJet_pt > 400.0) >= 2', 'Events with >=2 AK8 jets with pT > 400 GeV')\n",
    "    df_cut_leadingak8pt = df_cut_ak8pt.Filter('Sum(FatJet_pt > 500.0) > 0', 'Events with >=1 AK8 jets with pT > 500 GeV')\n",
    "    df_cut_leadingak8pt.Report().Print()\n",
    "    df0 = df_cut_leadingak8pt\n",
    "elif viljaFiltered:\n",
    "    #-------------------------------------\n",
    "    if viljaFiltered_original:\n",
    "        %run viljaFilter.py\n",
    "    elif viljaFiltered_LaurilaMod:\n",
    "        %run viljaFilter_LaurilaMod.py\n",
    "    elif viljaFiltered_SalomaaMod: \n",
    "        %run viljaFilter_SalomaaMod.py\n",
    "    #-------------------------------------\n",
    "    if HH_one:\n",
    "        df_viljaFiltered = filtersAndcuts(df, 36000, 0.009169)\n",
    "    elif viljaFiltered and (not viljaFilteredFromAll):\n",
    "        df_viljaFiltered = filtersAndcuts(df, 292000, 0.009169)\n",
    "    #-------------------------------------\n",
    "    # filtering will continue soon...\n",
    "    #-------------------------------------\n",
    "else:\n",
    "    df0 = df"
   ]
  },
  {
   "cell_type": "markdown",
   "id": "color-contract",
   "metadata": {},
   "source": [
    "#### Define bGenPart, bGenJet and bJet variables:"
   ]
  },
  {
   "cell_type": "code",
   "execution_count": 11,
   "id": "resident-addition",
   "metadata": {},
   "outputs": [],
   "source": [
    "# Run always\n",
    "# Defining variables using the functions in findClosestFunctions.py and bGenPartFunctions.py\n",
    "\n",
    "%run def_bVariables.py\n",
    "\n",
    "if not viljaFiltered:\n",
    "    df0 = defbVariables(df0)\n",
    "else:\n",
    "    df_viljaFiltered_with_bVariables = defbVariables(df_viljaFiltered)"
   ]
  },
  {
   "cell_type": "markdown",
   "id": "welsh-irrigation",
   "metadata": {},
   "source": [
    "# Filtering using nB_strong (2/2):"
   ]
  },
  {
   "cell_type": "code",
   "execution_count": 12,
   "id": "breathing-hospital",
   "metadata": {},
   "outputs": [
    {
     "name": "stdout",
     "output_type": "stream",
     "text": [
      "Events with >=2 AK8 jets: pass=119845     all=292000     -- eff=41.04 % cumulative eff=41.04 %\n",
      "Preselection of subleading jet pt: pass=75527      all=119845     -- eff=63.02 % cumulative eff=25.87 %\n",
      "Preselection of leading jet pt: pass=62550      all=75527      -- eff=82.82 % cumulative eff=21.42 %\n",
      "Events passing at least one trigger: pass=53930      all=62550      -- eff=86.22 % cumulative eff=18.47 %\n",
      "Events with >=2 good AK8 jets with pT > 400 GeV: pass=40416      all=53930      -- eff=74.94 % cumulative eff=13.84 %\n",
      "Events with >0 good AK8 jets with pT > 500 GeV: pass=34803      all=40416      -- eff=86.11 % cumulative eff=11.92 %\n",
      "Events with >=2 good AK8 jets with deltaEta < 2.0: pass=32775      all=34803      -- eff=94.17 % cumulative eff=11.22 %\n",
      "Events with >=2 good AK8 jets with deltaPhi > 2.6: pass=32197      all=32775      -- eff=98.24 % cumulative eff=11.03 %\n",
      "Events with >=2 good AK8 jets with 145 > ms > 100 GeV: pass=19698      all=32197      -- eff=61.18 % cumulative eff=6.75 %\n",
      "Events with >0 good AK8 jets with 150 > ms > 110 GeV: pass=12845      all=19698      -- eff=65.21 % cumulative eff=4.40 %\n",
      "Events with >= 2 good AK8 Jets with XbbVsQCD > 0.9: pass=11487      all=12845      -- eff=89.43 % cumulative eff=3.93 %\n",
      "Events with > 0 good AK8 Jets with XbbVsQCD > 0.9: pass=10446      all=11487      -- eff=90.94 % cumulative eff=3.58 %\n",
      "Events with >=2 AK4 jets: pass=10446      all=10446      -- eff=100.00 % cumulative eff=3.58 %\n",
      "Events with 0 good electrons: pass=10315      all=10446      -- eff=98.75 % cumulative eff=3.53 %\n",
      "Events with 0 good muons: pass=10088      all=10315      -- eff=97.80 % cumulative eff=3.45 %\n",
      "Double-check that we have exactly two Higgs candidates: pass=10088      all=10088      -- eff=100.00 % cumulative eff=3.45 %\n",
      "Double-check that we have at last one GoodJet: pass=10088      all=10088      -- eff=100.00 % cumulative eff=3.45 %\n",
      "Events with >= 2 good jets cleaned of fat jets and leptons: pass=5336       all=10088      -- eff=52.89 % cumulative eff=1.83 %\n",
      "VBF eta > 1.5: pass=4410       all=5336       -- eff=82.65 % cumulative eff=1.51 %\n",
      "VBF jet candidates with DeltaEta > 4.0: pass=3640       all=4410       -- eff=82.54 % cumulative eff=1.25 %\n",
      "VBF jet candidates with invariant mass > 500: pass=3577       all=3640       -- eff=98.27 % cumulative eff=1.23 %\n",
      "Events with >= 2 nGenJets: pass=3577       all=3577       -- eff=100.00 % cumulative eff=1.23 %\n",
      "Events with strong matched VBF jets: pass=3352       all=3577       -- eff=93.71 % cumulative eff=1.15 %\n",
      "Events with different bJets: pass=3349       all=3352       -- eff=99.91 % cumulative eff=1.15 %\n"
     ]
    }
   ],
   "source": [
    "#-------------------------------------\n",
    "# ... filtering continues:\n",
    "\n",
    "if viljaFiltered:\n",
    "    df_viljaFiltered_with_GenJets_Jets = df_viljaFiltered_with_bVariables.Filter('nGenJet >= 2', 'Events with >= 2 nGenJets')\n",
    "    df_viljaFiltered_strong = df_viljaFiltered_with_GenJets_Jets.Filter('nB_strong == 2', 'Events with strong matched VBF jets')\n",
    "    df_viljaFiltered_strong_sep = df_viljaFiltered_strong.Filter('bJet_eta[0] != bJet_eta[1]', 'Events with different bJets')\n",
    "    df_viljaFiltered_strong_sep.Report().Print()\n",
    "    df0 = df_viljaFiltered_strong_sep\n",
    "#-------------------------------------"
   ]
  },
  {
   "cell_type": "markdown",
   "id": "advance-object",
   "metadata": {},
   "source": [
    "# -------------------------------------"
   ]
  },
  {
   "cell_type": "markdown",
   "id": "sorted-dodge",
   "metadata": {},
   "source": [
    "## Define PrintStats functions:"
   ]
  },
  {
   "cell_type": "code",
   "execution_count": 13,
   "id": "a5c26bef",
   "metadata": {},
   "outputs": [],
   "source": [
    "# Run always\n",
    "# This is to investigate the success rates of the matchings\n",
    "\n",
    "%run printStatsFunctions.py\n",
    "\n",
    "# Examples use of use:\n",
    "\n",
    "# printStats(df0, ['nB', 'nB_weak', 'nB_strong'])\n",
    "\n",
    "# OR\n",
    "\n",
    "#printStats(df0, ['nB_etaDetectable', 'nB_etaDetectable_weak', 'nB_etaDetectable_strong'])\n",
    "#printStats(df0, ['nB_GenJetDetectable', 'nB_GenJetDetectable_weak', 'nB_GenJetDetectable_strong'])\n",
    "#printStats(df0, ['nB_JetDetectable', 'nB_JetDetectable_weak', 'nB_JetDetectable_strong'])"
   ]
  },
  {
   "cell_type": "markdown",
   "id": "occasional-story",
   "metadata": {},
   "source": [
    "# -------------------------------------"
   ]
  },
  {
   "cell_type": "markdown",
   "id": "ethical-inclusion",
   "metadata": {},
   "source": [
    "## Define PrintEvents functions and global variables:"
   ]
  },
  {
   "cell_type": "markdown",
   "id": "female-prediction",
   "metadata": {},
   "source": [
    "##### Load and run these next cells if you want to study specific events, or events one by one (very nice stuff to investigate)"
   ]
  },
  {
   "cell_type": "code",
   "execution_count": 14,
   "id": "cee77edd",
   "metadata": {},
   "outputs": [],
   "source": [
    "# %load printEventsFunctions.py"
   ]
  },
  {
   "cell_type": "code",
   "execution_count": 15,
   "id": "understood-tuition",
   "metadata": {},
   "outputs": [],
   "source": [
    "#df0 = df0.Define('GenPart_statusFlags_intRVec', 'intRVec_to_intRVecRVec(GenPart_statusFlags)')"
   ]
  },
  {
   "cell_type": "code",
   "execution_count": 16,
   "id": "korean-opportunity",
   "metadata": {},
   "outputs": [],
   "source": [
    "# %load printEventsGlobVariables.py"
   ]
  },
  {
   "cell_type": "code",
   "execution_count": 17,
   "id": "17fe2527",
   "metadata": {},
   "outputs": [],
   "source": [
    "# Examples of use:\n",
    "\n",
    "# printEvents(50,\n",
    "#             showVBFCandidates=False,\n",
    "#             onlyNotWeaks=True, onlyNotWeaks_and_bigPt=False,\n",
    "#             printShort=True, printIdx=False, printIdxStatus=False, printCoordinateAndPt=True)\n",
    "\n",
    "# OR (after the shortNotEqualIndexList definition below)\n",
    "\n",
    "# printEvents(shortNotEqualIndexList[:10],\n",
    "#             showVBFCandidates=True,\n",
    "#             onlyNotWeaks=False, onlyNotWeaks_and_bigPt=False,\n",
    "#             printShort=True, printIdx=False, printIdxStatus=False, printCoordinateAndPt=True)"
   ]
  },
  {
   "cell_type": "markdown",
   "id": "social-library",
   "metadata": {},
   "source": [
    "# -------------------------------------"
   ]
  },
  {
   "cell_type": "markdown",
   "id": "interested-welding",
   "metadata": {},
   "source": [
    "##### Q1 vs Q2 comparison variables:\n",
    "\n",
    "$\\Delta\\eta_{01}=\\eta[0]-\\eta[1]$ <br>\n",
    "$|\\Delta\\eta_{01}|$<br>\n",
    "$|\\Delta|\\eta_{01}||$<br>\n",
    "----------------------------------- <br>\n",
    "$\\Delta\\phi_{01}=\\phi[0]-\\phi[1]$ <br>\n",
    "$|\\Delta\\phi_{01}|$ <br>\n",
    "----------------------------------- <br>\n",
    "$\\Delta {p_T}_{01}=p_T[0]-p_T[1]$ <br>\n",
    "$|\\Delta p_{T,01}|$ <br>\n",
    "$|\\Delta p_{T,01}/p_T[1]|$ <br>\n",
    "----------------------------------- <br>\n",
    "$p_{T,0,rel}=\\frac{p_T[0]}{p_T[0]+p_T[1]}$ <br>\n",
    "$p_{T,1,rel}=\\frac{p_T[1]}{p_T[0]+p_T[1]}$ <br>\n",
    "$min(p_{T,0,rel}, p_{T,1,rel})$"
   ]
  },
  {
   "cell_type": "code",
   "execution_count": 18,
   "id": "guilty-strand",
   "metadata": {},
   "outputs": [],
   "source": [
    "# Run this if you have unfiltered or fatjet-filtered events and you want to proceed with \"strong events\" (two strong matched jets) only\n",
    "\n",
    "#%run def_Q1_Q2_variables.py\n",
    "#df0_strong = df0.Filter('nB_strong == 2', 'nB_strong == 2')\n",
    "#df0_strong = define_Q1_Q2_variables(df_strong)"
   ]
  },
  {
   "cell_type": "markdown",
   "id": "mediterranean-cedar",
   "metadata": {},
   "source": [
    "# -------------------------------------"
   ]
  },
  {
   "cell_type": "markdown",
   "id": "bigger-intake",
   "metadata": {},
   "source": [
    "# Run and time your code after this:"
   ]
  },
  {
   "cell_type": "markdown",
   "id": "b6fe26eb",
   "metadata": {},
   "source": [
    "# -------------------------------------"
   ]
  },
  {
   "cell_type": "code",
   "execution_count": 19,
   "id": "conscious-subscription",
   "metadata": {},
   "outputs": [
    {
     "name": "stdout",
     "output_type": "stream",
     "text": [
      "(#VBFC[0] correct, #VBFC[1] correct, #VBFC correct, #both correct)\n",
      "(3276, 3008, 6284, 2940)\n",
      "(0.978, 0.898, 0.938, 0.878)\n"
     ]
    }
   ],
   "source": [
    "# For viljaFiltered dataset to check how often VBFCandidate equals bJet (which is the goal)\n",
    "# This also returns notEqualIndexList which are the event indices that VBFC differs from bJet\n",
    "# These statistics are at the end of the pdf file\n",
    "# You might want to run this to get indexList for the printEvents() functions (to check why it's not the same)\n",
    "\n",
    "if viljaFiltered:\n",
    "\n",
    "    npdf = df0.AsNumpy(['bJet_eta', 'VBFCandidates_eta'])\n",
    "    notEqualIndexList = []\n",
    "    \n",
    "    def inVBFList(q, i):\n",
    "        VBFjet = npdf['VBFCandidates_eta'][i][q]\n",
    "        bJetList = [npdf['bJet_eta'][i][0], npdf['bJet_eta'][i][1]]\n",
    "        inList = VBFjet in bJetList\n",
    "        return inList\n",
    "\n",
    "    m = len(npdf['bJet_eta'])\n",
    "\n",
    "    s0 = 0\n",
    "    s1 = 0\n",
    "    s2 = 0\n",
    "\n",
    "    for i in range(m):\n",
    "        c0 = inVBFList(0, i)\n",
    "        c1 = inVBFList(1, i)\n",
    "        c2 = c0 and c1\n",
    "\n",
    "        if c0:\n",
    "            s0 += 1\n",
    "        if c1:\n",
    "            s1 += 1\n",
    "\n",
    "        if c2:\n",
    "            s2 += 1\n",
    "        else:\n",
    "            notEqualIndexList.append(i)\n",
    "    print('(#VBFC[0] correct, #VBFC[1] correct, #VBFC correct, #both correct)')\n",
    "    print((s0, s1, (s0 + s1), s2))\n",
    "    print((round(s0/m, 3), round(s1/m, 3), round((s0 + s1)/(2*m), 3), round(s2/m, 3)))"
   ]
  },
  {
   "cell_type": "code",
   "execution_count": 20,
   "id": "convinced-member",
   "metadata": {},
   "outputs": [],
   "source": [
    "# Short version of the notEqualIndexList created above\n",
    "\n",
    "shortNotEqualIndexList = [0, 8, 31, 40, 42, 47, 49, 58, 62, 72, 73, 88, 93, 114, 123, 136, 137, 143, 151, 157, 180, 203, 213, 224, 229, 240, 252, 257]"
   ]
  },
  {
   "cell_type": "code",
   "execution_count": null,
   "id": "43f25ec4",
   "metadata": {},
   "outputs": [],
   "source": []
  },
  {
   "cell_type": "markdown",
   "id": "logical-algebra",
   "metadata": {},
   "source": [
    "# ---------------------------------"
   ]
  },
  {
   "cell_type": "markdown",
   "id": "574857f0",
   "metadata": {},
   "source": [
    "# Machine learning stuff (%load and run):"
   ]
  },
  {
   "cell_type": "code",
   "execution_count": 21,
   "id": "be137de3",
   "metadata": {},
   "outputs": [],
   "source": [
    "#%load machineLearning_dataframe.py"
   ]
  },
  {
   "cell_type": "code",
   "execution_count": 22,
   "id": "334c9117",
   "metadata": {},
   "outputs": [],
   "source": [
    "#%load machineLearning_stats.py"
   ]
  },
  {
   "cell_type": "code",
   "execution_count": 23,
   "id": "d2d7da23",
   "metadata": {},
   "outputs": [],
   "source": [
    "#%load machineLearning_plots.py"
   ]
  },
  {
   "cell_type": "code",
   "execution_count": null,
   "id": "eff15dc8",
   "metadata": {},
   "outputs": [],
   "source": []
  },
  {
   "cell_type": "markdown",
   "id": "7a88f9fd",
   "metadata": {},
   "source": [
    "# ---------------------------------"
   ]
  },
  {
   "cell_type": "code",
   "execution_count": 24,
   "id": "b5bb47a8",
   "metadata": {},
   "outputs": [],
   "source": [
    "# If wanted these \"time stamps\" can be thrown in the code"
   ]
  },
  {
   "cell_type": "code",
   "execution_count": 25,
   "id": "8137ba54",
   "metadata": {},
   "outputs": [
    {
     "name": "stdout",
     "output_type": "stream",
     "text": [
      "73 s = 1 min\n"
     ]
    }
   ],
   "source": [
    "t0 = time.time()\n",
    "print(str(round(t0-t_init)) + ' s = ' + str(round((t0-t_init)/60)) + ' min')"
   ]
  },
  {
   "cell_type": "code",
   "execution_count": 26,
   "id": "ac4c6ecb",
   "metadata": {},
   "outputs": [
    {
     "name": "stdout",
     "output_type": "stream",
     "text": [
      "0 s = 0 min\n",
      "73 s = 1 min\n"
     ]
    }
   ],
   "source": [
    "t1 = time.time()\n",
    "print(str(round(t1-t0)) + ' s = ' + str(round((t1-t0)/60)) + ' min')\n",
    "print(str(round(t1-t_init)) + ' s = ' + str(round((t1-t_init)/60)) + ' min')"
   ]
  },
  {
   "cell_type": "code",
   "execution_count": 27,
   "id": "186aa321",
   "metadata": {},
   "outputs": [
    {
     "name": "stdout",
     "output_type": "stream",
     "text": [
      "0 s = 0 min \n",
      "73 s = 1 min \n"
     ]
    }
   ],
   "source": [
    "t2 = time.time()\n",
    "print(str(round(t2-t1)) + ' s = ' + str(round((t2-t1)/60)) + ' min ')\n",
    "print(str(round(t2-t_init)) + ' s = ' + str(round((t2-t_init)/60)) + ' min ')"
   ]
  },
  {
   "cell_type": "code",
   "execution_count": 28,
   "id": "f24dd712",
   "metadata": {},
   "outputs": [
    {
     "name": "stdout",
     "output_type": "stream",
     "text": [
      "0 s = 0 min \n",
      "74 s = 1 min \n"
     ]
    }
   ],
   "source": [
    "t3 = time.time()\n",
    "print(str(round(t3-t2)) + ' s = ' + str(round((t3-t2)/60)) + ' min ')\n",
    "print(str(round(t3-t_init)) + ' s = ' + str(round((t3-t_init)/60)) + ' min ')"
   ]
  },
  {
   "cell_type": "code",
   "execution_count": 29,
   "id": "dried-apple",
   "metadata": {},
   "outputs": [
    {
     "name": "stdout",
     "output_type": "stream",
     "text": [
      "0 s = 0 min \n",
      "74 s = 1 min \n"
     ]
    }
   ],
   "source": [
    "t4 = time.time()\n",
    "print(str(round(t4-t3)) + ' s = ' + str(round((t4-t3)/60)) + ' min ')\n",
    "print(str(round(t4-t_init)) + ' s = ' + str(round((t4-t_init)/60)) + ' min ')"
   ]
  },
  {
   "cell_type": "code",
   "execution_count": 30,
   "id": "controlled-personal",
   "metadata": {},
   "outputs": [
    {
     "name": "stdout",
     "output_type": "stream",
     "text": [
      "0 s = 0 min\n",
      "74 s = 1 min\n"
     ]
    }
   ],
   "source": [
    "t5 = time.time()\n",
    "print(str(round(t5-t4)) + ' s = ' + str(round((t5-t4)/60)) + ' min')\n",
    "print(str(round(t5-t_init)) + ' s = ' + str(round((t5-t_init)/60)) + ' min')"
   ]
  },
  {
   "cell_type": "code",
   "execution_count": 31,
   "id": "subject-adelaide",
   "metadata": {},
   "outputs": [
    {
     "name": "stdout",
     "output_type": "stream",
     "text": [
      "0 s = 0 min \n",
      "74 s = 1 min \n"
     ]
    }
   ],
   "source": [
    "t6 = time.time()\n",
    "print(str(round(t6-t5)) + ' s = ' + str(round((t6-t5)/60)) + ' min ')\n",
    "print(str(round(t6-t_init)) + ' s = ' + str(round((t6-t_init)/60)) + ' min ')"
   ]
  },
  {
   "cell_type": "markdown",
   "id": "25a0b70b",
   "metadata": {},
   "source": [
    "# ---------------------------------"
   ]
  },
  {
   "cell_type": "code",
   "execution_count": 32,
   "id": "imperial-graduation",
   "metadata": {},
   "outputs": [
    {
     "name": "stdout",
     "output_type": "stream",
     "text": [
      "0 s = 0 min \n",
      "74 s = 1 min \n"
     ]
    }
   ],
   "source": [
    "t_final = time.time()\n",
    "print(str(round(t_final-t6)) + ' s = ' + str(round((t_final-t6)/60)) + ' min ')\n",
    "print(str(round(t_final-t_init)) + ' s = ' + str(round((t_final-t_init)/60)) + ' min ')"
   ]
  }
 ],
 "metadata": {
  "kernelspec": {
   "display_name": "Python 3",
   "language": "python",
   "name": "python3"
  },
  "language_info": {
   "codemirror_mode": {
    "name": "ipython",
    "version": 3
   },
   "file_extension": ".py",
   "mimetype": "text/x-python",
   "name": "python",
   "nbconvert_exporter": "python",
   "pygments_lexer": "ipython3",
   "version": "3.8.6"
  }
 },
 "nbformat": 4,
 "nbformat_minor": 5
}
